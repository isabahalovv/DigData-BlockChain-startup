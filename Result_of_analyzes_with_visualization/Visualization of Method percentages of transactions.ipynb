{
 "cells": [
  {
   "cell_type": "code",
   "execution_count": 72,
   "id": "0ef783b8",
   "metadata": {},
   "outputs": [],
   "source": [
    "import numpy as np\n",
    "import pandas as pd\n",
    "import matplotlib.pyplot as plt"
   ]
  },
  {
   "cell_type": "code",
   "execution_count": 2,
   "id": "fb30ee7e",
   "metadata": {
    "scrolled": true
   },
   "outputs": [
    {
     "data": {
      "text/html": [
       "<div>\n",
       "<style scoped>\n",
       "    .dataframe tbody tr th:only-of-type {\n",
       "        vertical-align: middle;\n",
       "    }\n",
       "\n",
       "    .dataframe tbody tr th {\n",
       "        vertical-align: top;\n",
       "    }\n",
       "\n",
       "    .dataframe thead th {\n",
       "        text-align: right;\n",
       "    }\n",
       "</style>\n",
       "<table border=\"1\" class=\"dataframe\">\n",
       "  <thead>\n",
       "    <tr style=\"text-align: right;\">\n",
       "      <th></th>\n",
       "      <th>Txhash</th>\n",
       "      <th>Blockno</th>\n",
       "      <th>UnixTimestamp</th>\n",
       "      <th>DateTime</th>\n",
       "      <th>From</th>\n",
       "      <th>To</th>\n",
       "      <th>Quantity</th>\n",
       "      <th>Method</th>\n",
       "    </tr>\n",
       "  </thead>\n",
       "  <tbody>\n",
       "    <tr>\n",
       "      <th>0</th>\n",
       "      <td>0xb4878de6314ab75e17b1243a651044578b076ed2b9bc...</td>\n",
       "      <td>19154416</td>\n",
       "      <td>1656633696</td>\n",
       "      <td>2022-07-01 00:01:36</td>\n",
       "      <td>0xb587db81b2c9f5759b287f94b79d36bceebf0c20</td>\n",
       "      <td>0x290403be913aeace7980817e95d58278714f09c4</td>\n",
       "      <td>701,250</td>\n",
       "      <td>Claim</td>\n",
       "    </tr>\n",
       "    <tr>\n",
       "      <th>1</th>\n",
       "      <td>0x6d0e03922848fcf5dbddaff1dc35f3bacf8137f83a24...</td>\n",
       "      <td>19154589</td>\n",
       "      <td>1656634215</td>\n",
       "      <td>2022-07-01 00:10:15</td>\n",
       "      <td>0x290403be913aeace7980817e95d58278714f09c4</td>\n",
       "      <td>0xd152f549545093347a162dce210e7293f1452150</td>\n",
       "      <td>700,651</td>\n",
       "      <td>Disperse Token</td>\n",
       "    </tr>\n",
       "    <tr>\n",
       "      <th>2</th>\n",
       "      <td>0x6d0e03922848fcf5dbddaff1dc35f3bacf8137f83a24...</td>\n",
       "      <td>19154589</td>\n",
       "      <td>1656634215</td>\n",
       "      <td>2022-07-01 00:10:15</td>\n",
       "      <td>0xd152f549545093347a162dce210e7293f1452150</td>\n",
       "      <td>0x017f9a78bfffd814fe555cca4428f2d66d4cc090</td>\n",
       "      <td>3,640</td>\n",
       "      <td>Disperse Token</td>\n",
       "    </tr>\n",
       "  </tbody>\n",
       "</table>\n",
       "</div>"
      ],
      "text/plain": [
       "                                              Txhash   Blockno  UnixTimestamp  \\\n",
       "0  0xb4878de6314ab75e17b1243a651044578b076ed2b9bc...  19154416     1656633696   \n",
       "1  0x6d0e03922848fcf5dbddaff1dc35f3bacf8137f83a24...  19154589     1656634215   \n",
       "2  0x6d0e03922848fcf5dbddaff1dc35f3bacf8137f83a24...  19154589     1656634215   \n",
       "\n",
       "              DateTime                                        From  \\\n",
       "0  2022-07-01 00:01:36  0xb587db81b2c9f5759b287f94b79d36bceebf0c20   \n",
       "1  2022-07-01 00:10:15  0x290403be913aeace7980817e95d58278714f09c4   \n",
       "2  2022-07-01 00:10:15  0xd152f549545093347a162dce210e7293f1452150   \n",
       "\n",
       "                                           To Quantity          Method  \n",
       "0  0x290403be913aeace7980817e95d58278714f09c4  701,250           Claim  \n",
       "1  0xd152f549545093347a162dce210e7293f1452150  700,651  Disperse Token  \n",
       "2  0x017f9a78bfffd814fe555cca4428f2d66d4cc090    3,640  Disperse Token  "
      ]
     },
     "execution_count": 2,
     "metadata": {},
     "output_type": "execute_result"
    }
   ],
   "source": [
    "df = pd.read_csv('meto transfer.csv')\n",
    "df.head(3)"
   ]
  },
  {
   "cell_type": "code",
   "execution_count": 201,
   "id": "9650f6c9",
   "metadata": {},
   "outputs": [],
   "source": [
    "def pie_chart(df, address):\n",
    "    claim = len(df.loc[(df['From'] == address) & ((df['Method'].str.contains('Claim')) | (df['Method'].str.contains('Withdraw')))]['To'].values.tolist())\n",
    "    swap = len(df.loc[(df['From'] == address) & (df['Method'].str.contains('Swap'))]['To'].values.tolist())\n",
    "    stake = len(df.loc[(df['From'] == address) & (df['Method'].str.contains('Stake'))]['To'].values.tolist())\n",
    "    transfer = len(df.loc[(df['From'] == address) & (df['Method'].str.startswith('Transfer'))]['To'].values.tolist())\n",
    "    disperse = len(df.loc[((df['From'] == address) & (df['Method'] == 'Disperse Token'))]['To'].values.tolist())\n",
    "    all_methods = claim + swap + stake + transfer + disperse\n",
    "    others = len(df.loc[df['From'] == address]) - all_methods\n",
    "    \n",
    "    \n",
    "    methods = ['Claim', 'Swap', 'Stake', 'Transfer', 'Disperse', 'Others']\n",
    "    \n",
    "    data = [claim, swap, stake, transfer, disperse, others]\n",
    "    \n",
    "    explode = (0.1, 0.2, 0.2, 0.3, 0.2, 0.2)\n",
    "    \n",
    "    colors = ( \"orange\", \"cyan\", \"brown\", \"grey\", \"indigo\", \"beige\")\n",
    "    \n",
    "    wp = { 'linewidth' : 1, 'edgecolor' : \"green\" }\n",
    "    \n",
    "    def func(pct, allvalues):\n",
    "        absolute = int(pct / 100.*np.sum(allvalues))\n",
    "        return \"{:.1f}%\\n({:d})\".format(pct, absolute)\n",
    "    \n",
    "    fig, ax = plt.subplots(figsize =(10, 7))\n",
    "    wedges, texts, autotexts = ax.pie(data,\n",
    "                                  autopct = lambda pct: func(pct, data),\n",
    "                                  explode = explode,\n",
    "                                  labels = methods,\n",
    "                                  shadow = True,\n",
    "                                  colors = colors,\n",
    "                                  startangle = 90,\n",
    "                                  wedgeprops = wp,\n",
    "                                  textprops = dict(color =\"magenta\"))\n",
    " \n",
    "    # Adding legend\n",
    "    ax.legend(wedges, methods,\n",
    "              title =\"Methods\",\n",
    "              loc =\"center left\",\n",
    "              bbox_to_anchor =(1.1, 0, 0.5, 1.5))\n",
    " \n",
    "    plt.setp(autotexts, size = 8, weight =\"bold\")\n",
    "    \n",
    "    plt.savefig('Pie chart',loc = 'right center' ,dpi=60, facecolor='w', orientation='portrait', \n",
    "                papertype='ledger', transparent=False, pad_inches=0.5, frameon=True)\n",
    "    # show plot\n",
    "    plt.show()"
   ]
  },
  {
   "cell_type": "markdown",
   "id": "fdf235df",
   "metadata": {},
   "source": [
    "## --------------------------------------------------------------------------------------------------------------------------------------"
   ]
  },
  {
   "cell_type": "code",
   "execution_count": 85,
   "id": "fd319562",
   "metadata": {
    "scrolled": true
   },
   "outputs": [
    {
     "data": {
      "text/plain": [
       "2007    0xc590175e458b83680867afd273527ff58f74c02b\n",
       "2764    0xaf831916463a1c38493bb7c77a2cb16494f13566\n",
       "768     0x989053592163d77bde8ec063fc1c1b8d60c6c793\n",
       "Name: From, dtype: object"
      ]
     },
     "execution_count": 85,
     "metadata": {},
     "output_type": "execute_result"
    }
   ],
   "source": [
    "df.From.sample(3)"
   ]
  },
  {
   "cell_type": "code",
   "execution_count": 218,
   "id": "0403597e",
   "metadata": {
    "scrolled": false
   },
   "outputs": [
    {
     "data": {
      "image/png": "[encoded data removed]",
      "text/plain": [
       "<Figure size 720x504 with 1 Axes>"
      ]
     },
     "metadata": {},
     "output_type": "display_data"
    }
   ],
   "source": [
    "pie_chart(df, df.From.sample(1).values[0])"
   ]
  }
 ],
 "metadata": {
  "kernelspec": {
   "display_name": "Python 3 (ipykernel)",
   "language": "python",
   "name": "python3"
  },
  "language_info": {
   "codemirror_mode": {
    "name": "ipython",
    "version": 3
   },
   "file_extension": ".py",
   "mimetype": "text/x-python",
   "name": "python",
   "nbconvert_exporter": "python",
   "pygments_lexer": "ipython3",
   "version": "3.10.7"
  }
 },
 "nbformat": 4,
 "nbformat_minor": 5
}
