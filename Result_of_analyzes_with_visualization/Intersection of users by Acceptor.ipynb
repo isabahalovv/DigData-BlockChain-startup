{
 "cells": [
  {
   "cell_type": "code",
   "execution_count": 5,
   "id": "d13898f9",
   "metadata": {},
   "outputs": [],
   "source": [
    "import pandas as pd\n",
    "from warnings import filterwarnings\n",
    "filterwarnings('ignore')\n",
    "import pandas as pd\n",
    "import numpy as np\n",
    "import matplotlib.pyplot as plt\n",
    "from matplotlib_venn import venn3, venn3_circles\n",
    "from matplotlib_venn import venn2, venn2_circles"
   ]
  },
  {
   "cell_type": "code",
   "execution_count": 6,
   "id": "3f44582d",
   "metadata": {},
   "outputs": [],
   "source": [
    "df_meto = pd.read_csv('export-tokenholders-for-contract-meto.csv')\n",
    "df_wear = pd.read_csv('export-tokenholders-for-contract-wear.csv')\n",
    "\n",
    "df_meto_trans = pd.read_csv('meto transfer.csv')\n",
    "df_wear_trans = pd.read_csv('wear transfer.csv')\n",
    "df_intersect = pd.read_csv('intersection_wear_meto.csv')"
   ]
  },
  {
   "cell_type": "code",
   "execution_count": 14,
   "id": "407c6d3b",
   "metadata": {},
   "outputs": [],
   "source": [
    "def intersect_of_to(df1, df2, df_intersect, df_tr1, df_tr2, colname, token_name1, token_name2):\n",
    "    unique_1 = [a for a in list(df1[colname]) if a not in list(df_intersect[colname])]\n",
    "    unique_2 = [a for a in list(df2[colname]) if a not in list(df_intersect[colname])]\n",
    "    unique_intersect = list(df_intersect[colname])\n",
    "    \n",
    "    from_1 = [a for a in df_tr1['From'] if a in unique_1]\n",
    "    from_2 = [a for a in df_tr2['From'] if a in unique_2]\n",
    "    from_intersect = [a for a in df_tr1['From'] if a in unique_intersect] + [a for a in df_tr2['From'] if a in unique_intersect]\n",
    "    \n",
    "    to_1, to_2, intersect_to = [], [], []\n",
    "\n",
    "    for x in from_1:\n",
    "        to_1.append(list(df_tr1.loc[df_tr1['From'] == x]['To']))\n",
    "    \n",
    "    for x in from_2:\n",
    "        to_2.append(list(df_tr2.loc[df_tr2['From'] == x]['To']))\n",
    "    \n",
    "    for x in from_intersect:\n",
    "        intersect_to.append(list(df_tr1.loc[df_tr1['From'] == x]['To']))\n",
    "        intersect_to.append(list(df_tr2.loc[df_tr2['From'] == x]['To']))\n",
    "        \n",
    "    storage_1, storage_2, storage_3 = [], [], []\n",
    "\n",
    "    for x in range(len(to_1)):\n",
    "        storage_1.extend(to_1[x])\n",
    "    \n",
    "    for x in range(len(to_2)):\n",
    "            storage_2.extend(to_2[x])\n",
    "            \n",
    "    for x in range(len(intersect_to)):\n",
    "            storage_2.extend(intersect_to[x])\n",
    "            \n",
    "    nd_storage_1 = list(set(storage_1))\n",
    "    nd_storage_2 = list(set(storage_2))\n",
    "    nd_storage_3 = list(set(storage_3))\n",
    "    \n",
    "    df11 = pd.DataFrame({colname:nd_storage_1})\n",
    "    df22 = pd.DataFrame({colname:nd_storage_2})\n",
    "    df33 = pd.DataFrame({colname:nd_storage_3})\n",
    "    df10 = df11.append([df33, df22])\n",
    "\n",
    "    venn3([set(nd_storage_1), set(nd_storage_2), set(nd_storage_3)],\n",
    "           (token_name1, token_name2),\n",
    "            set_colors=(\"red\",\"gray\",'green'))\n",
    "    plt.savefig('intersection', dpi=150, facecolor='w', orientation='portrait', \n",
    "                papertype='ledger', transparent=False, pad_inches=0.5, frameon=True)\n",
    "    plt.title(f\"Intersection of {token_name1}, {token_name2} and intersect by 'To'\")\n",
    "    plt.show()\n",
    "    \n",
    "    return df10[df10[colname].duplicated()].reset_index(drop=True)[[colname]]"
   ]
  },
  {
   "cell_type": "code",
   "execution_count": 15,
   "id": "73575a00",
   "metadata": {},
   "outputs": [
    {
     "data": {
      "image/png": "[encoded data removed]",
      "text/plain": [
       "<Figure size 432x288 with 1 Axes>"
      ]
     },
     "metadata": {},
     "output_type": "display_data"
    },
    {
     "data": {
      "text/html": [
       "<div>\n",
       "<style scoped>\n",
       "    .dataframe tbody tr th:only-of-type {\n",
       "        vertical-align: middle;\n",
       "    }\n",
       "\n",
       "    .dataframe tbody tr th {\n",
       "        vertical-align: top;\n",
       "    }\n",
       "\n",
       "    .dataframe thead th {\n",
       "        text-align: right;\n",
       "    }\n",
       "</style>\n",
       "<table border=\"1\" class=\"dataframe\">\n",
       "  <thead>\n",
       "    <tr style=\"text-align: right;\">\n",
       "      <th></th>\n",
       "      <th>HolderAddress</th>\n",
       "    </tr>\n",
       "  </thead>\n",
       "  <tbody>\n",
       "    <tr>\n",
       "      <th>0</th>\n",
       "      <td>0xcc8cd14a1f7df6e7044316d17efe3f5dc4038185</td>\n",
       "    </tr>\n",
       "    <tr>\n",
       "      <th>1</th>\n",
       "      <td>0x2c7a17c4a5d0861fc076bb1b96f3aeee403cb7c2</td>\n",
       "    </tr>\n",
       "    <tr>\n",
       "      <th>2</th>\n",
       "      <td>0x2b127dab7233ecd0a47aa7485edb417bc779b56d</td>\n",
       "    </tr>\n",
       "    <tr>\n",
       "      <th>3</th>\n",
       "      <td>0xfe0f130512e5f24e3a1efa1c6b1fb73be104cd68</td>\n",
       "    </tr>\n",
       "    <tr>\n",
       "      <th>4</th>\n",
       "      <td>0xb20b17a146d0ceaaaec707a3703d790139f747bf</td>\n",
       "    </tr>\n",
       "    <tr>\n",
       "      <th>...</th>\n",
       "      <td>...</td>\n",
       "    </tr>\n",
       "    <tr>\n",
       "      <th>74</th>\n",
       "      <td>0x59699cdbf6519042d6074fdbe2408ad993435bd8</td>\n",
       "    </tr>\n",
       "    <tr>\n",
       "      <th>75</th>\n",
       "      <td>0x644331d23ccf4950dde32c88eebdf4ce9415c169</td>\n",
       "    </tr>\n",
       "    <tr>\n",
       "      <th>76</th>\n",
       "      <td>0x9f3d36ca325a3d6b526b1043ccbfd339a9a59610</td>\n",
       "    </tr>\n",
       "    <tr>\n",
       "      <th>77</th>\n",
       "      <td>0xbae59f3dd798545a71487e9e0fad6e96f66199d8</td>\n",
       "    </tr>\n",
       "    <tr>\n",
       "      <th>78</th>\n",
       "      <td>0x0e03b20e816cdd51fc49defb8ae6fce1bcb0083e</td>\n",
       "    </tr>\n",
       "  </tbody>\n",
       "</table>\n",
       "<p>79 rows × 1 columns</p>\n",
       "</div>"
      ],
      "text/plain": [
       "                                 HolderAddress\n",
       "0   0xcc8cd14a1f7df6e7044316d17efe3f5dc4038185\n",
       "1   0x2c7a17c4a5d0861fc076bb1b96f3aeee403cb7c2\n",
       "2   0x2b127dab7233ecd0a47aa7485edb417bc779b56d\n",
       "3   0xfe0f130512e5f24e3a1efa1c6b1fb73be104cd68\n",
       "4   0xb20b17a146d0ceaaaec707a3703d790139f747bf\n",
       "..                                         ...\n",
       "74  0x59699cdbf6519042d6074fdbe2408ad993435bd8\n",
       "75  0x644331d23ccf4950dde32c88eebdf4ce9415c169\n",
       "76  0x9f3d36ca325a3d6b526b1043ccbfd339a9a59610\n",
       "77  0xbae59f3dd798545a71487e9e0fad6e96f66199d8\n",
       "78  0x0e03b20e816cdd51fc49defb8ae6fce1bcb0083e\n",
       "\n",
       "[79 rows x 1 columns]"
      ]
     },
     "execution_count": 15,
     "metadata": {},
     "output_type": "execute_result"
    }
   ],
   "source": [
    "intersect_of_to(df_meto, df_wear, df_intersect, df_meto_trans, df_wear_trans, 'HolderAddress', 'Meto','Wear')"
   ]
  },
  {
   "cell_type": "code",
   "execution_count": 16,
   "id": "25a44a1d",
   "metadata": {},
   "outputs": [
    {
     "data": {
      "image/png": "[encoded data removed]",
      "text/plain": [
       "<Figure size 432x288 with 1 Axes>"
      ]
     },
     "metadata": {},
     "output_type": "display_data"
    }
   ],
   "source": [
    "df = intersect_of_to(df_meto, df_wear, df_intersect, df_meto_trans, df_wear_trans, 'HolderAddress', 'Meto','Wear')\n",
    "df.to_csv('intersection_by_to_all.csv')"
   ]
  }
 ],
 "metadata": {
  "kernelspec": {
   "display_name": "Python 3 (ipykernel)",
   "language": "python",
   "name": "python3"
  },
  "language_info": {
   "codemirror_mode": {
    "name": "ipython",
    "version": 3
   },
   "file_extension": ".py",
   "mimetype": "text/x-python",
   "name": "python",
   "nbconvert_exporter": "python",
   "pygments_lexer": "ipython3",
   "version": "3.10.7"
  }
 },
 "nbformat": 4,
 "nbformat_minor": 5
}
